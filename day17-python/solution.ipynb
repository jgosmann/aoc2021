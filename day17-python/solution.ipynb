{
 "cells": [
  {
   "cell_type": "markdown",
   "id": "03f89521-25db-4ffb-ae58-9fa95b71381c",
   "metadata": {},
   "source": [
    "# Day 17\n",
    "\n",
    "This took me way longer than it should have.\n",
    "Should have gone for the brute force solution immediately\n",
    "instead of trying to figure out a direct solution."
   ]
  },
  {
   "cell_type": "code",
   "execution_count": 1,
   "id": "b31cb07b-b3ae-49bf-aebd-e8825d9254da",
   "metadata": {
    "execution": {
     "iopub.execute_input": "2021-12-17T20:40:25.271322Z",
     "iopub.status.busy": "2021-12-17T20:40:25.270628Z",
     "iopub.status.idle": "2021-12-17T20:40:25.516462Z",
     "shell.execute_reply": "2021-12-17T20:40:25.515056Z",
     "shell.execute_reply.started": "2021-12-17T20:40:25.271174Z"
    },
    "tags": []
   },
   "outputs": [],
   "source": [
    "from dataclasses import dataclass\n",
    "import numpy as np"
   ]
  },
  {
   "cell_type": "code",
   "execution_count": 2,
   "id": "63cf44c6-d208-45e5-8c56-77f043ab1b56",
   "metadata": {
    "execution": {
     "iopub.execute_input": "2021-12-17T20:40:25.624125Z",
     "iopub.status.busy": "2021-12-17T20:40:25.623611Z",
     "iopub.status.idle": "2021-12-17T20:40:25.632646Z",
     "shell.execute_reply": "2021-12-17T20:40:25.631351Z",
     "shell.execute_reply.started": "2021-12-17T20:40:25.624063Z"
    },
    "tags": []
   },
   "outputs": [],
   "source": [
    "@dataclass\n",
    "class Target:\n",
    "    x_lb: int\n",
    "    x_ub: int\n",
    "    y_lb: int\n",
    "    y_ub: int"
   ]
  },
  {
   "cell_type": "code",
   "execution_count": 3,
   "id": "873c954c-43db-4b44-9643-b4b05f7885c1",
   "metadata": {
    "execution": {
     "iopub.execute_input": "2021-12-17T20:40:25.939380Z",
     "iopub.status.busy": "2021-12-17T20:40:25.938898Z",
     "iopub.status.idle": "2021-12-17T20:40:25.946720Z",
     "shell.execute_reply": "2021-12-17T20:40:25.945434Z",
     "shell.execute_reply.started": "2021-12-17T20:40:25.939318Z"
    },
    "tags": []
   },
   "outputs": [],
   "source": [
    "test_target = Target(x_lb=20, x_ub=30, y_lb=-10, y_ub=-5)"
   ]
  },
  {
   "cell_type": "code",
   "execution_count": 4,
   "id": "7549f155-eee7-488f-bf21-a1b6ac66285a",
   "metadata": {
    "execution": {
     "iopub.execute_input": "2021-12-17T20:40:26.267321Z",
     "iopub.status.busy": "2021-12-17T20:40:26.266842Z",
     "iopub.status.idle": "2021-12-17T20:40:26.274315Z",
     "shell.execute_reply": "2021-12-17T20:40:26.273034Z",
     "shell.execute_reply.started": "2021-12-17T20:40:26.267260Z"
    },
    "tags": []
   },
   "outputs": [],
   "source": [
    "proper_target = Target(x_lb=88, x_ub=125, y_lb=-157, y_ub=-103)"
   ]
  },
  {
   "cell_type": "code",
   "execution_count": 5,
   "id": "8a34c49a-db1d-4d31-a244-77da890ee86e",
   "metadata": {
    "execution": {
     "iopub.execute_input": "2021-12-17T20:40:26.586255Z",
     "iopub.status.busy": "2021-12-17T20:40:26.585762Z",
     "iopub.status.idle": "2021-12-17T20:40:26.607703Z",
     "shell.execute_reply": "2021-12-17T20:40:26.606319Z",
     "shell.execute_reply.started": "2021-12-17T20:40:26.586194Z"
    },
    "tags": []
   },
   "outputs": [],
   "source": [
    "def solve_quadratic(p, q):\n",
    "    a = -p / 2.\n",
    "    b = np.sqrt(np.square(p) / 4. - q)\n",
    "    return (a + b, a - b)\n",
    "\n",
    "def calc_step_bound_hit(initial_velocity, bound):\n",
    "    return solve_quadratic(-(2 * initial_velocity + 1), 2 * bound)\n",
    "\n",
    "def hits_target(x0, y0, target):\n",
    "    assert x0 >= 0\n",
    "    assert target.x_lb > 0 and target.x_ub > 0\n",
    "    assert target.y_lb < 0 and target.y_ub < 0\n",
    "    try:\n",
    "        x_steps_lb = np.ceil(calc_step_bound_hit(x0, target.x_lb)[1])\n",
    "        x_steps_ub = np.floor(np.nan_to_num(calc_step_bound_hit(x0, target.x_ub)[1], nan=np.inf))\n",
    "        y_steps_ub = np.floor(calc_step_bound_hit(y0, target.y_lb)[0])\n",
    "        y_steps_lb = np.ceil(np.nan_to_num(calc_step_bound_hit(y0, target.y_ub)[0], nan=y_steps_ub))\n",
    "    except ValueError:\n",
    "        return False\n",
    "    return (\n",
    "        x_steps_lb <= x_steps_ub and y_steps_lb <= y_steps_ub\n",
    "        and (\n",
    "            x_steps_lb <= y_steps_lb <= x_steps_ub\n",
    "            or x_steps_lb <= y_steps_ub <= x_steps_ub\n",
    "            or y_steps_lb <= x_steps_lb <= y_steps_ub\n",
    "            or y_steps_lb <= x_steps_ub <= y_steps_ub\n",
    "        )\n",
    "    )"
   ]
  },
  {
   "cell_type": "code",
   "execution_count": 6,
   "id": "f10c103b-9045-4996-8682-2abb8594dac7",
   "metadata": {
    "execution": {
     "iopub.execute_input": "2021-12-17T20:40:26.914907Z",
     "iopub.status.busy": "2021-12-17T20:40:26.914355Z",
     "iopub.status.idle": "2021-12-17T20:40:26.927668Z",
     "shell.execute_reply": "2021-12-17T20:40:26.926349Z",
     "shell.execute_reply.started": "2021-12-17T20:40:26.914842Z"
    },
    "tags": []
   },
   "outputs": [],
   "source": [
    "def solve(target):\n",
    "    valid_launch_speeds = set(\n",
    "        (x0, y0)\n",
    "        for x0 in range(target.x_ub + 2)\n",
    "        for y0 in range(target.y_lb - 1, max(abs(target.y_lb), target.y_ub) + 2)\n",
    "        if hits_target(x0, y0, target)\n",
    "    )\n",
    "    max_height = max(y0 * y0 - y0 * (y0 - 1) / 2. for _, y0 in valid_launch_speeds)\n",
    "    print(f\"There are {len(valid_launch_speeds)} valid launch speeds.\")\n",
    "    print(f\"The maximum reachable height is {max_height}.\")"
   ]
  },
  {
   "cell_type": "code",
   "execution_count": 7,
   "id": "da3f89fd-6fb3-43e1-b249-ccd5a9524d61",
   "metadata": {
    "execution": {
     "iopub.execute_input": "2021-12-17T20:40:27.591336Z",
     "iopub.status.busy": "2021-12-17T20:40:27.590849Z",
     "iopub.status.idle": "2021-12-17T20:40:27.827471Z",
     "shell.execute_reply": "2021-12-17T20:40:27.826096Z",
     "shell.execute_reply.started": "2021-12-17T20:40:27.591275Z"
    },
    "tags": []
   },
   "outputs": [
    {
     "name": "stdout",
     "output_type": "stream",
     "text": [
      "There are 112 valid launch speeds.\n",
      "The maximum reachable height is 45.0.\n"
     ]
    },
    {
     "name": "stderr",
     "output_type": "stream",
     "text": [
      "/tmp/ipykernel_863877/431108009.py:3: RuntimeWarning: invalid value encountered in sqrt\n",
      "  b = np.sqrt(np.square(p) / 4. - q)\n"
     ]
    }
   ],
   "source": [
    "solve(test_target)"
   ]
  },
  {
   "cell_type": "code",
   "execution_count": 8,
   "id": "b0ce630f-7246-4532-9084-ca26585fbcf2",
   "metadata": {
    "execution": {
     "iopub.execute_input": "2021-12-17T20:40:28.432355Z",
     "iopub.status.busy": "2021-12-17T20:40:28.431880Z",
     "iopub.status.idle": "2021-12-17T20:40:34.044420Z",
     "shell.execute_reply": "2021-12-17T20:40:34.043611Z",
     "shell.execute_reply.started": "2021-12-17T20:40:28.432294Z"
    },
    "tags": []
   },
   "outputs": [
    {
     "name": "stderr",
     "output_type": "stream",
     "text": [
      "/tmp/ipykernel_863877/431108009.py:3: RuntimeWarning: invalid value encountered in sqrt\n",
      "  b = np.sqrt(np.square(p) / 4. - q)\n"
     ]
    },
    {
     "name": "stdout",
     "output_type": "stream",
     "text": [
      "There are 3528 valid launch speeds.\n",
      "The maximum reachable height is 12246.0.\n"
     ]
    }
   ],
   "source": [
    "solve(proper_target)"
   ]
  },
  {
   "cell_type": "code",
   "execution_count": null,
   "id": "4df4cf0e-5b2e-4fab-a64a-b1d3d7d1f997",
   "metadata": {},
   "outputs": [],
   "source": []
  }
 ],
 "metadata": {
  "kernelspec": {
   "display_name": "Python 3 (ipykernel)",
   "language": "python",
   "name": "python3"
  },
  "language_info": {
   "codemirror_mode": {
    "name": "ipython",
    "version": 3
   },
   "file_extension": ".py",
   "mimetype": "text/x-python",
   "name": "python",
   "nbconvert_exporter": "python",
   "pygments_lexer": "ipython3",
   "version": "3.8.10"
  }
 },
 "nbformat": 4,
 "nbformat_minor": 5
}
